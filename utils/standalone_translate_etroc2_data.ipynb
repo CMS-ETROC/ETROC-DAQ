{
 "cells": [
  {
   "attachments": {},
   "cell_type": "markdown",
   "metadata": {},
   "source": [
    "### Pattern finding functions"
   ]
  },
  {
   "cell_type": "code",
   "execution_count": 2,
   "metadata": {},
   "outputs": [],
   "source": [
    "def find_pattern_first_index(bitstream):\n",
    "    pattern = \"3c5c\"\n",
    "    pattern_length = len(pattern) * 4  # 4 bits per hexadecimal digit\n",
    "\n",
    "    for i in range(len(bitstream) - pattern_length + 1):\n",
    "        current_substring = bitstream[i:i+pattern_length]\n",
    "        hexadecimal = hex(int(current_substring, 2))[2:]  # Convert binary to hexadecimal\n",
    "        if hexadecimal == pattern:\n",
    "            return i\n",
    "\n",
    "    return -1  # Pattern not found\n",
    "\n",
    "def find_pattern_multiple_indexs(bitstream):\n",
    "    pattern = \"3c5c\"\n",
    "    pattern_length = len(pattern) * 4  # 4 bits per hexadecimal digit\n",
    "\n",
    "    indices = []  # List to store the indices of pattern occurrences\n",
    "\n",
    "    for i in range(len(bitstream) - pattern_length + 1):\n",
    "        current_substring = bitstream[i:i+pattern_length]\n",
    "        hexadecimal = hex(int(current_substring, 2))[2:]  # Convert binary to hexadecimal\n",
    "        if hexadecimal == pattern:\n",
    "            indices.append(i)\n",
    "\n",
    "    return indices  # Return the list of indices"
   ]
  },
  {
   "attachments": {},
   "cell_type": "markdown",
   "metadata": {},
   "source": [
    "### Translate binary to readable data"
   ]
  },
  {
   "cell_type": "code",
   "execution_count": 3,
   "metadata": {},
   "outputs": [],
   "source": [
    "def translate(input_stream, parent_dir, output, chipID):\n",
    "    f = open(parent_dir+'/'+output, 'w')\n",
    "    i=0\n",
    "    residual = ''\n",
    "    # hex chipID to binary\n",
    "    binID = format(int(chipID, 0), '017b')\n",
    "    wordlength = 40\n",
    "    while True:\n",
    "        word = input_stream[wordlength*i: wordlength*(i+1)]\n",
    "        printline = \"ETROC2 0 \"# + \"{:d} \".format(channel)\n",
    "        if len(word) != 40:\n",
    "            # print('Cannot form a 40 bit word')\n",
    "            i += 1\n",
    "            residual = word\n",
    "            break\n",
    "        elif len(word) == 40:\n",
    "            # Header\n",
    "            if word[0:16] == '0011110001011100' and word[16:18] == '00':\n",
    "                printline += \"HEADER \"\n",
    "                printline += \"L1COUNTER \" + word[18:26] + \" \"\n",
    "                printline += \"TYPE \" + word[26:28] + \" \"\n",
    "                printline += \"BCID \" + f\"{int(word[28:40], base=2)}\"\n",
    "                i += 1\n",
    "            # Trailer\n",
    "            elif word[0:18] == '0'+str(binID):\n",
    "                printline += \"TRAILER \"\n",
    "                printline += \"CHIPID \" + f\"{hex(int(word[1:18], base=2))}\" + \" \"\n",
    "                printline += \"STATUS \" + word[18:24] + \" \"\n",
    "                printline += \"HITS \" + f\"{int(word[24:32], base=2)}\" + \" \"\n",
    "                printline += \"CRC \" + word[32:40]\n",
    "                i += 1\n",
    "            # Frame filler\n",
    "            elif word[0:16] == '0011110001011100' and word[16:18] == '10':\n",
    "                printline += \"FRAMEFILLER \"\n",
    "                printline += \"L1COUNTER \" + word[18:26] + \" \"\n",
    "                printline += \"EBS \" + word[26:28] + \" \"\n",
    "                printline += \"BCID \" + f\"{int(word[28:40], base=2)}\"\n",
    "                i += 1\n",
    "            # Firmware filler\n",
    "            elif word[0:16] == '0011110001011100' and word[16:18] == '11':\n",
    "                printline += \"FIRMWAREFILLER \"\n",
    "                printline += \"MISSINGCOUNT \" + word[18:40]\n",
    "                i += 1\n",
    "            # DATA\n",
    "            elif word[0] == '1':\n",
    "                printline += \"DATA \"\n",
    "                printline += \"EA \" + word[1:3] + \" \"\n",
    "                printline += \"COL \" + \"{:d} \".format(int(word[3:7], base=2))\n",
    "                printline += \"ROW \" + \"{:d} \".format(int(word[7:11], base=2))\n",
    "                printline += \"TOA \" + \"{:d} \".format(int(word[11:21], base=2))\n",
    "                printline += \"TOT \" + \"{:d} \".format(int(word[21:30], base=2))\n",
    "                printline += \"CAL \" + \"{:d} \".format(int(word[30:40], base=2))\n",
    "                i += 1\n",
    "            else:\n",
    "                printline += \"NOT DEFINED \" + word[0:16] + \" \" + word[16:18] + \" \" + word[18:]\n",
    "                i += 1\n",
    "                pass\n",
    "        \n",
    "        f.write(printline+'\\n')\n",
    "    f.close()\n",
    "    \n",
    "    return residual"
   ]
  },
  {
   "cell_type": "code",
   "execution_count": 4,
   "metadata": {},
   "outputs": [
    {
     "name": "stdout",
     "output_type": "stream",
     "text": [
      "Requirement already satisfied: natsort in /home/daq/ETROC2/i2c_gui/venv/lib/python3.9/site-packages (8.3.1)\n",
      "\u001b[33mWARNING: You are using pip version 21.2.3; however, version 23.1.2 is available.\n",
      "You should consider upgrading via the '/home/daq/ETROC2/i2c_gui/venv/bin/python -m pip install --upgrade pip' command.\u001b[0m\n"
     ]
    }
   ],
   "source": [
    "# install natsort module (skip if this module is installed already!)\n",
    "import sys\n",
    "!{sys.executable} -m pip install natsort"
   ]
  },
  {
   "attachments": {},
   "cell_type": "markdown",
   "metadata": {},
   "source": [
    "### Let's convert!"
   ]
  },
  {
   "cell_type": "code",
   "execution_count": 19,
   "metadata": {},
   "outputs": [
    {
     "name": "stdout",
     "output_type": "stream",
     "text": [
      "/home/daq/ETROC2/ETROC-Data/2023-06-05_Array_Test_Results/test9/TDC_Data_0.dat\n",
      "/home/daq/ETROC2/ETROC-Data/2023-06-05_Array_Test_Results/test9/TDC_Data_1.dat\n",
      "/home/daq/ETROC2/ETROC-Data/2023-06-05_Array_Test_Results/test9/TDC_Data_2.dat\n",
      "/home/daq/ETROC2/ETROC-Data/2023-06-05_Array_Test_Results/test9/TDC_Data_3.dat\n",
      "/home/daq/ETROC2/ETROC-Data/2023-06-05_Array_Test_Results/test9/TDC_Data_4.dat\n",
      "/home/daq/ETROC2/ETROC-Data/2023-06-05_Array_Test_Results/test9/TDC_Data_5.dat\n",
      "/home/daq/ETROC2/ETROC-Data/2023-06-05_Array_Test_Results/test9/TDC_Data_6.dat\n",
      "/home/daq/ETROC2/ETROC-Data/2023-06-05_Array_Test_Results/test9/TDC_Data_7.dat\n",
      "/home/daq/ETROC2/ETROC-Data/2023-06-05_Array_Test_Results/test9/TDC_Data_8.dat\n",
      "/home/daq/ETROC2/ETROC-Data/2023-06-05_Array_Test_Results/test9/TDC_Data_9.dat\n",
      "/home/daq/ETROC2/ETROC-Data/2023-06-05_Array_Test_Results/test9/TDC_Data_10.dat\n",
      "/home/daq/ETROC2/ETROC-Data/2023-06-05_Array_Test_Results/test9/TDC_Data_11.dat\n",
      "/home/daq/ETROC2/ETROC-Data/2023-06-05_Array_Test_Results/test9/TDC_Data_12.dat\n",
      "/home/daq/ETROC2/ETROC-Data/2023-06-05_Array_Test_Results/test9/TDC_Data_13.dat\n",
      "/home/daq/ETROC2/ETROC-Data/2023-06-05_Array_Test_Results/test9/TDC_Data_14.dat\n",
      "/home/daq/ETROC2/ETROC-Data/2023-06-05_Array_Test_Results/test9/TDC_Data_15.dat\n",
      "/home/daq/ETROC2/ETROC-Data/2023-06-05_Array_Test_Results/test9/TDC_Data_16.dat\n",
      "/home/daq/ETROC2/ETROC-Data/2023-06-05_Array_Test_Results/test9/TDC_Data_17.dat\n",
      "/home/daq/ETROC2/ETROC-Data/2023-06-05_Array_Test_Results/test9/TDC_Data_18.dat\n",
      "/home/daq/ETROC2/ETROC-Data/2023-06-05_Array_Test_Results/test9/TDC_Data_19.dat\n",
      "/home/daq/ETROC2/ETROC-Data/2023-06-05_Array_Test_Results/test9/TDC_Data_20.dat\n",
      "/home/daq/ETROC2/ETROC-Data/2023-06-05_Array_Test_Results/test9/TDC_Data_21.dat\n",
      "/home/daq/ETROC2/ETROC-Data/2023-06-05_Array_Test_Results/test9/TDC_Data_22.dat\n",
      "/home/daq/ETROC2/ETROC-Data/2023-06-05_Array_Test_Results/test9/TDC_Data_23.dat\n",
      "/home/daq/ETROC2/ETROC-Data/2023-06-05_Array_Test_Results/test9/TDC_Data_24.dat\n",
      "/home/daq/ETROC2/ETROC-Data/2023-06-05_Array_Test_Results/test9/TDC_Data_25.dat\n",
      "/home/daq/ETROC2/ETROC-Data/2023-06-05_Array_Test_Results/test9/TDC_Data_26.dat\n",
      "/home/daq/ETROC2/ETROC-Data/2023-06-05_Array_Test_Results/test9/TDC_Data_27.dat\n",
      "/home/daq/ETROC2/ETROC-Data/2023-06-05_Array_Test_Results/test9/TDC_Data_28.dat\n",
      "/home/daq/ETROC2/ETROC-Data/2023-06-05_Array_Test_Results/test9/TDC_Data_29.dat\n",
      "/home/daq/ETROC2/ETROC-Data/2023-06-05_Array_Test_Results/test9/TDC_Data_30.dat\n",
      "/home/daq/ETROC2/ETROC-Data/2023-06-05_Array_Test_Results/test9/TDC_Data_31.dat\n",
      "/home/daq/ETROC2/ETROC-Data/2023-06-05_Array_Test_Results/test9/TDC_Data_32.dat\n",
      "/home/daq/ETROC2/ETROC-Data/2023-06-05_Array_Test_Results/test9/TDC_Data_33.dat\n",
      "/home/daq/ETROC2/ETROC-Data/2023-06-05_Array_Test_Results/test9/TDC_Data_34.dat\n",
      "/home/daq/ETROC2/ETROC-Data/2023-06-05_Array_Test_Results/test9/TDC_Data_35.dat\n",
      "/home/daq/ETROC2/ETROC-Data/2023-06-05_Array_Test_Results/test9/TDC_Data_36.dat\n",
      "/home/daq/ETROC2/ETROC-Data/2023-06-05_Array_Test_Results/test9/TDC_Data_37.dat\n",
      "/home/daq/ETROC2/ETROC-Data/2023-06-05_Array_Test_Results/test9/TDC_Data_38.dat\n",
      "/home/daq/ETROC2/ETROC-Data/2023-06-05_Array_Test_Results/test9/TDC_Data_39.dat\n",
      "/home/daq/ETROC2/ETROC-Data/2023-06-05_Array_Test_Results/test9/TDC_Data_40.dat\n",
      "/home/daq/ETROC2/ETROC-Data/2023-06-05_Array_Test_Results/test9/TDC_Data_41.dat\n",
      "/home/daq/ETROC2/ETROC-Data/2023-06-05_Array_Test_Results/test9/TDC_Data_42.dat\n",
      "/home/daq/ETROC2/ETROC-Data/2023-06-05_Array_Test_Results/test9/TDC_Data_43.dat\n",
      "/home/daq/ETROC2/ETROC-Data/2023-06-05_Array_Test_Results/test9/TDC_Data_44.dat\n",
      "/home/daq/ETROC2/ETROC-Data/2023-06-05_Array_Test_Results/test9/TDC_Data_45.dat\n",
      "/home/daq/ETROC2/ETROC-Data/2023-06-05_Array_Test_Results/test9/TDC_Data_46.dat\n",
      "/home/daq/ETROC2/ETROC-Data/2023-06-05_Array_Test_Results/test9/TDC_Data_47.dat\n",
      "/home/daq/ETROC2/ETROC-Data/2023-06-05_Array_Test_Results/test9/TDC_Data_48.dat\n",
      "/home/daq/ETROC2/ETROC-Data/2023-06-05_Array_Test_Results/test9/TDC_Data_49.dat\n",
      "/home/daq/ETROC2/ETROC-Data/2023-06-05_Array_Test_Results/test9/TDC_Data_50.dat\n",
      "/home/daq/ETROC2/ETROC-Data/2023-06-05_Array_Test_Results/test9/TDC_Data_51.dat\n",
      "/home/daq/ETROC2/ETROC-Data/2023-06-05_Array_Test_Results/test9/TDC_Data_52.dat\n",
      "/home/daq/ETROC2/ETROC-Data/2023-06-05_Array_Test_Results/test9/TDC_Data_53.dat\n",
      "/home/daq/ETROC2/ETROC-Data/2023-06-05_Array_Test_Results/test9/TDC_Data_54.dat\n",
      "/home/daq/ETROC2/ETROC-Data/2023-06-05_Array_Test_Results/test9/TDC_Data_55.dat\n",
      "/home/daq/ETROC2/ETROC-Data/2023-06-05_Array_Test_Results/test9/TDC_Data_56.dat\n",
      "/home/daq/ETROC2/ETROC-Data/2023-06-05_Array_Test_Results/test9/TDC_Data_57.dat\n",
      "/home/daq/ETROC2/ETROC-Data/2023-06-05_Array_Test_Results/test9/TDC_Data_58.dat\n",
      "/home/daq/ETROC2/ETROC-Data/2023-06-05_Array_Test_Results/test9/TDC_Data_59.dat\n",
      "/home/daq/ETROC2/ETROC-Data/2023-06-05_Array_Test_Results/test9/TDC_Data_60.dat\n",
      "/home/daq/ETROC2/ETROC-Data/2023-06-05_Array_Test_Results/test9/TDC_Data_61.dat\n",
      "/home/daq/ETROC2/ETROC-Data/2023-06-05_Array_Test_Results/test9/TDC_Data_62.dat\n",
      "/home/daq/ETROC2/ETROC-Data/2023-06-05_Array_Test_Results/test9/TDC_Data_63.dat\n",
      "/home/daq/ETROC2/ETROC-Data/2023-06-05_Array_Test_Results/test9/TDC_Data_64.dat\n",
      "/home/daq/ETROC2/ETROC-Data/2023-06-05_Array_Test_Results/test9/TDC_Data_65.dat\n",
      "/home/daq/ETROC2/ETROC-Data/2023-06-05_Array_Test_Results/test9/TDC_Data_66.dat\n",
      "/home/daq/ETROC2/ETROC-Data/2023-06-05_Array_Test_Results/test9/TDC_Data_67.dat\n",
      "/home/daq/ETROC2/ETROC-Data/2023-06-05_Array_Test_Results/test9/TDC_Data_68.dat\n",
      "/home/daq/ETROC2/ETROC-Data/2023-06-05_Array_Test_Results/test9/TDC_Data_69.dat\n"
     ]
    }
   ],
   "source": [
    "from glob import glob\n",
    "from natsort import natsorted, ns\n",
    "from tqdm import tqdm\n",
    "from pathlib import Path\n",
    "\n",
    "# natural sorting in python\n",
    "dir=Path('/home/daq/ETROC2/ETROC-Data/2023-06-05_Array_Test_Results/test9')\n",
    "files = glob(str(dir)+'/*Data_[0-9]*.dat')\n",
    "# print(files)\n",
    "files = natsorted(files)\n",
    "for file in files: print(file)"
   ]
  },
  {
   "cell_type": "code",
   "execution_count": 20,
   "metadata": {},
   "outputs": [
    {
     "name": "stderr",
     "output_type": "stream",
     "text": [
      "100%|██████████| 70/70 [00:04<00:00, 16.42it/s]\n"
     ]
    }
   ],
   "source": [
    "residual = ''\n",
    "\n",
    "for i, ifile in enumerate(tqdm(files)):\n",
    "    # Let's make a very long bitstream single line\n",
    "    bitstream = residual + ''\n",
    "    with open(ifile, 'r') as infile:\n",
    "        # make data bitstream in a single line\n",
    "        for line in infile.readlines():\n",
    "            if line[0:4] == '1100':\n",
    "                bitstream += line.strip()[4:]\n",
    "    \n",
    "    # Find the first index of 3c5c pattern\n",
    "    position = find_pattern_first_index(bitstream)\n",
    "    out_bitstream = bitstream[position:]\n",
    "\n",
    "    outname = 'TDC_Data_translated_'+str(i)+'.dat'\n",
    "    residual = translate(out_bitstream, str(dir/'StandaloneTranslate'), outname, '0x17f0f')"
   ]
  },
  {
   "cell_type": "code",
   "execution_count": null,
   "metadata": {},
   "outputs": [],
   "source": []
  }
 ],
 "metadata": {
  "kernelspec": {
   "display_name": "packages",
   "language": "python",
   "name": "python3"
  },
  "language_info": {
   "codemirror_mode": {
    "name": "ipython",
    "version": 3
   },
   "file_extension": ".py",
   "mimetype": "text/x-python",
   "name": "python",
   "nbconvert_exporter": "python",
   "pygments_lexer": "ipython3",
   "version": "3.9.16"
  },
  "orig_nbformat": 4
 },
 "nbformat": 4,
 "nbformat_minor": 2
}
