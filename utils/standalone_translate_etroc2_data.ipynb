{
 "cells": [
  {
   "attachments": {},
   "cell_type": "markdown",
   "metadata": {},
   "source": [
    "### Pattern finding functions"
   ]
  },
  {
   "cell_type": "code",
   "execution_count": null,
   "metadata": {},
   "outputs": [],
   "source": [
    "def find_pattern_first_index(bitstream):\n",
    "    pattern = \"3c5c\"\n",
    "    pattern_length = len(pattern) * 4  # 4 bits per hexadecimal digit\n",
    "\n",
    "    for i in range(len(bitstream) - pattern_length + 1):\n",
    "        current_substring = bitstream[i:i+pattern_length]\n",
    "        hexadecimal = hex(int(current_substring, 2))[2:]  # Convert binary to hexadecimal\n",
    "        if hexadecimal == pattern:\n",
    "            return i\n",
    "\n",
    "    return -1  # Pattern not found\n",
    "\n",
    "def find_pattern_multiple_indexs(bitstream):\n",
    "    pattern = \"3c5c\"\n",
    "    pattern_length = len(pattern) * 4  # 4 bits per hexadecimal digit\n",
    "\n",
    "    indices = []  # List to store the indices of pattern occurrences\n",
    "\n",
    "    for i in range(len(bitstream) - pattern_length + 1):\n",
    "        current_substring = bitstream[i:i+pattern_length]\n",
    "        hexadecimal = hex(int(current_substring, 2))[2:]  # Convert binary to hexadecimal\n",
    "        if hexadecimal == pattern:\n",
    "            indices.append(i)\n",
    "\n",
    "    return indices  # Return the list of indices"
   ]
  },
  {
   "attachments": {},
   "cell_type": "markdown",
   "metadata": {},
   "source": [
    "### Translate binary to readable data"
   ]
  },
  {
   "cell_type": "code",
   "execution_count": null,
   "metadata": {},
   "outputs": [],
   "source": [
    "def translate_with_indices(input_stream, positions, parent_dir, output, chipID):\n",
    "    f = open(parent_dir+'/'+output, 'w')\n",
    "    residual = ''\n",
    "    \n",
    "    # hex chipID to binary\n",
    "    binID = format(int(chipID, 0), '017b')\n",
    "    wordlength = 40\n",
    "    printline = ''\n",
    "    key = ''\n",
    "    \n",
    "    for i, index in enumerate(positions):\n",
    "\n",
    "        word = input_stream[index:index+wordlength]\n",
    "        printline = \"ETROC2 0 \"# + \"{:d} \".format(channel)\n",
    "\n",
    "        if len(word) != 40:\n",
    "            residual = word\n",
    "            break\n",
    "        elif len(word) == 40:\n",
    "            # Header\n",
    "            if word[0:16] == '0011110001011100' and word[16:18] == '00':\n",
    "                printline += \"HEADER \"\n",
    "                printline += \"L1COUNTER \" + word[18:26] + \" \"\n",
    "                printline += \"TYPE \" + word[26:28] + \" \"\n",
    "                printline += \"BCID \" + f\"{int(word[28:40], base=2)}\" + \"\\n\"\n",
    "                key = 'header'\n",
    "            # Frame filler\n",
    "            elif word[0:16] == '0011110001011100' and word[16:18] == '10':\n",
    "                printline += \"FRAMEFILLER \"\n",
    "                printline += \"L1COUNTER \" + word[18:26] + \" \"\n",
    "                printline += \"EBS \" + word[26:28] + \" \"\n",
    "                printline += \"BCID \" + f\"{int(word[28:40], base=2)}\" + \"\\n\"\n",
    "                key = 'filler'\n",
    "            # Firmware filler\n",
    "            elif word[0:16] == '0011110001011100' and word[16:18] == '11':\n",
    "                printline += \"FIRMWAREFILLER \"\n",
    "                printline += \"MISSINGCOUNT \" + word[18:40] + \"\\n\"\n",
    "                key = 'filler'\n",
    "            else:\n",
    "                printline += \"NOT DEFINED \" + word[0:16] + \" \" + word[16:18] + \" \" + word[18:] + \"\\n\"\n",
    "                key = 'whatisthis'\n",
    "                pass\n",
    "        \n",
    "        # Save if the data is filler\n",
    "        if key == 'filler':\n",
    "            f.write(printline)\n",
    "        \n",
    "        # if the data is header, try to find the data and trailer \n",
    "        elif key == 'header':\n",
    "            try: \n",
    "                loop = int((positions[i+1] - positions[i])/40)\n",
    "                for k in range(1, loop):\n",
    "                    word = input_stream[index+(wordlength*k):index+(wordlength*(k+1))]\n",
    "                    # Trailer\n",
    "                    if word[0:18] == '0'+str(binID):\n",
    "                        printline += \"TRAILER \"\n",
    "                        printline += \"CHIPID \" + f\"{hex(int(word[1:18], base=2))}\" + \" \"\n",
    "                        printline += \"STATUS \" + word[18:24] + \" \"\n",
    "                        printline += \"HITS \" + f\"{int(word[24:32], base=2)}\" + \" \"\n",
    "                        printline += \"CRC \" + word[32:40] + \"\\n\"\n",
    "                        key = 'trailer'\n",
    "                    \n",
    "                    elif word[0] == '1':\n",
    "                        printline += \"DATA \"\n",
    "                        printline += \"EA \" + word[1:3] + \" \"\n",
    "                        printline += \"COL \" + \"{:d} \".format(int(word[3:7], base=2))\n",
    "                        printline += \"ROW \" + \"{:d} \".format(int(word[7:11], base=2))\n",
    "                        printline += \"TOA \" + \"{:d} \".format(int(word[11:21], base=2))\n",
    "                        printline += \"TOT \" + \"{:d} \".format(int(word[21:30], base=2))\n",
    "                        printline += \"CAL \" + \"{:d} \".format(int(word[30:40], base=2)) + \"\\n\"\n",
    "                        key = 'data'\n",
    "                    \n",
    "                    # if the data is trailer, write the output in the file\n",
    "                    if key == 'trailer':\n",
    "                        f.write(printline)\n",
    "            except:\n",
    "                # out of index range, move to the next file\n",
    "                residual = word\n",
    "\n",
    "    f.close()\n",
    "    return residual        "
   ]
  },
  {
   "cell_type": "code",
   "execution_count": null,
   "metadata": {},
   "outputs": [],
   "source": [
    "# install natsort module (skip if this module is installed already!)\n",
    "import sys\n",
    "!{sys.executable} -m pip install natsort"
   ]
  },
  {
   "attachments": {},
   "cell_type": "markdown",
   "metadata": {},
   "source": [
    "### Let's convert!"
   ]
  },
  {
   "cell_type": "code",
   "execution_count": null,
   "metadata": {},
   "outputs": [],
   "source": [
    "from glob import glob\n",
    "from natsort import natsorted, ns\n",
    "from tqdm import tqdm\n",
    "from pathlib import Path\n",
    "\n",
    "# natural sorting in python\n",
    "dir=Path('/home/jongho/Physics/ETROC/etroc2_translate/test9')\n",
    "files = glob(str(dir)+'/*Data_[0-9]*.dat')\n",
    "files = natsorted(files)\n",
    "\n",
    "# print the list of files to check \n",
    "# for file in files: print(file)"
   ]
  },
  {
   "cell_type": "code",
   "execution_count": null,
   "metadata": {},
   "outputs": [],
   "source": [
    "residual = ''\n",
    "\n",
    "import os\n",
    "if not os.path.exists(str(dir/'StandaloneTranslate')):\n",
    "    os.mkdir(str(dir/'StandaloneTranslate'))\n",
    "\n",
    "for i, ifile in enumerate(tqdm(files)):\n",
    "    # if i > 2: break\n",
    "    # Let's make a very long bitstream single line\n",
    "    bitstream = residual + ''\n",
    "    with open(ifile, 'r') as infile:\n",
    "        # make data bitstream in a single line\n",
    "        for line in infile.readlines():\n",
    "            if line[0:4] == '1100':\n",
    "                bitstream += line.strip()[4:]\n",
    "\n",
    "    positions = find_pattern_multiple_indexs(bitstream)\n",
    "    outname = 'TDC_Data_translated_'+str(i)+'.dat'\n",
    "    residual = translate_with_indices(bitstream, positions, str(dir/'StandaloneTranslate'), outname, '0x17f0f')"
   ]
  },
  {
   "attachments": {},
   "cell_type": "markdown",
   "metadata": {},
   "source": []
  }
 ],
 "metadata": {
  "kernelspec": {
   "display_name": "packages",
   "language": "python",
   "name": "python3"
  },
  "language_info": {
   "codemirror_mode": {
    "name": "ipython",
    "version": 3
   },
   "file_extension": ".py",
   "mimetype": "text/x-python",
   "name": "python",
   "nbconvert_exporter": "python",
   "pygments_lexer": "ipython3",
   "version": "3.10.6"
  },
  "orig_nbformat": 4
 },
 "nbformat": 4,
 "nbformat_minor": 2
}
