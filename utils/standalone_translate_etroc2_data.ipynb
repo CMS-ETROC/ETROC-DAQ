{
 "cells": [
  {
   "attachments": {},
   "cell_type": "markdown",
   "metadata": {},
   "source": [
    "### Pattern finding functions"
   ]
  },
  {
   "cell_type": "code",
   "execution_count": 1,
   "metadata": {},
   "outputs": [],
   "source": [
    "def find_pattern_first_index(bitstream):\n",
    "    pattern = \"3c5c\"\n",
    "    pattern_length = len(pattern) * 4  # 4 bits per hexadecimal digit\n",
    "\n",
    "    for i in range(len(bitstream) - pattern_length + 1):\n",
    "        current_substring = bitstream[i:i+pattern_length]\n",
    "        hexadecimal = hex(int(current_substring, 2))[2:]  # Convert binary to hexadecimal\n",
    "        if hexadecimal == pattern:\n",
    "            return i\n",
    "\n",
    "    return -1  # Pattern not found\n",
    "\n",
    "def find_pattern_multiple_indexs(bitstream):\n",
    "    pattern = \"3c5c\"\n",
    "    pattern_length = len(pattern) * 4  # 4 bits per hexadecimal digit\n",
    "\n",
    "    indices = []  # List to store the indices of pattern occurrences\n",
    "\n",
    "    for i in range(len(bitstream) - pattern_length + 1):\n",
    "        current_substring = bitstream[i:i+pattern_length]\n",
    "        hexadecimal = hex(int(current_substring, 2))[2:]  # Convert binary to hexadecimal\n",
    "        if hexadecimal == pattern:\n",
    "            indices.append(i)\n",
    "\n",
    "    return indices  # Return the list of indices"
   ]
  },
  {
   "attachments": {},
   "cell_type": "markdown",
   "metadata": {},
   "source": [
    "### Translate binary to readable data"
   ]
  },
  {
   "cell_type": "code",
   "execution_count": 2,
   "metadata": {},
   "outputs": [],
   "source": [
    "def translate(input_stream, parent_dir, output, chipID):\n",
    "    f = open(parent_dir+'/'+output, 'w')\n",
    "    i=0\n",
    "    residual = ''\n",
    "    # hex chipID to binary\n",
    "    binID = format(int(chipID, 0), '017b')\n",
    "    wordlength = 40\n",
    "    while True:\n",
    "        word = input_stream[wordlength*i: wordlength*(i+1)]\n",
    "        printline = \"ETROC2 0 \"# + \"{:d} \".format(channel)\n",
    "        if len(word) != 40:\n",
    "            # print('Cannot form a 40 bit word')\n",
    "            i += 1\n",
    "            residual = word\n",
    "            break\n",
    "        elif len(word) == 40:\n",
    "            # Header\n",
    "            if word[0:16] == '0011110001011100' and word[16:18] == '00':\n",
    "                printline += \"HEADER \"\n",
    "                printline += \"L1COUNTER \" + word[18:26] + \" \"\n",
    "                printline += \"TYPE \" + word[26:28] + \" \"\n",
    "                printline += \"BCID \" + f\"{int(word[28:40], base=2)}\"\n",
    "                i += 1\n",
    "            # Trailer\n",
    "            elif word[0:18] == '0'+str(binID):\n",
    "                printline += \"TRAILER \"\n",
    "                printline += \"CHIPID \" + f\"{hex(int(word[1:18], base=2))}\" + \" \"\n",
    "                printline += \"STATUS \" + word[18:24] + \" \"\n",
    "                printline += \"HITS \" + f\"{int(word[24:32], base=2)}\" + \" \"\n",
    "                printline += \"CRC \" + word[32:40]\n",
    "                i += 1\n",
    "            # Frame filler\n",
    "            elif word[0:16] == '0011110001011100' and word[16:18] == '10':\n",
    "                printline += \"FRAMEFILLER \"\n",
    "                printline += \"L1COUNTER \" + word[18:26] + \" \"\n",
    "                printline += \"EBS \" + word[26:28] + \" \"\n",
    "                printline += \"BCID \" + f\"{int(word[28:40], base=2)}\"\n",
    "                i += 1\n",
    "            # Firmware filler\n",
    "            elif word[0:16] == '0011110001011100' and word[16:18] == '11':\n",
    "                printline += \"FIRMWAREFILLER \"\n",
    "                printline += \"MISSINGCOUNT \" + word[18:40]\n",
    "                i += 1\n",
    "            # DATA\n",
    "            elif word[0] == '1':\n",
    "                printline += \"DATA \"\n",
    "                printline += \"EA \" + word[1:3] + \" \"\n",
    "                printline += \"COL \" + \"{:d} \".format(int(word[3:7], base=2))\n",
    "                printline += \"ROW \" + \"{:d} \".format(int(word[7:11], base=2))\n",
    "                printline += \"TOA \" + \"{:d} \".format(int(word[11:21], base=2))\n",
    "                printline += \"TOT \" + \"{:d} \".format(int(word[21:30], base=2))\n",
    "                printline += \"CAL \" + \"{:d} \".format(int(word[30:40], base=2))\n",
    "                i += 1\n",
    "            else:\n",
    "                printline += \"NOT DEFINED \" + word[0:16] + \" \" + word[16:18] + \" \" + word[18:]\n",
    "                i += 1\n",
    "                pass\n",
    "        \n",
    "        f.write(printline+'\\n')\n",
    "    f.close()\n",
    "    \n",
    "    return residual"
   ]
  },
  {
   "cell_type": "code",
   "execution_count": 5,
   "metadata": {},
   "outputs": [],
   "source": [
    "from glob import glob\n",
    "from natsort import natsorted, ns\n",
    "from tqdm import tqdm\n",
    "\n",
    "# natural sorting in python\n",
    "files = glob('test3-third/*.dat')\n",
    "files = natsorted(files)"
   ]
  },
  {
   "cell_type": "code",
   "execution_count": 6,
   "metadata": {},
   "outputs": [
    {
     "name": "stderr",
     "output_type": "stream",
     "text": [
      "100%|██████████| 48/48 [00:04<00:00,  9.64it/s]\n"
     ]
    }
   ],
   "source": [
    "residual = ''\n",
    "\n",
    "for i, ifile in enumerate(tqdm(files)):\n",
    "    # Let's make a very long bitstream single line\n",
    "    bitstream = residual + ''\n",
    "    with open(ifile, 'r') as infile:\n",
    "        # make data bitstream in a single line\n",
    "        for line in infile.readlines():\n",
    "            if line[0:4] == '1100':\n",
    "                bitstream += line.strip()[4:]\n",
    "    \n",
    "    # Find the first index of 3c5c pattern\n",
    "    position = find_pattern_first_index(bitstream)\n",
    "    out_bitstream = bitstream[position:]\n",
    "\n",
    "    outname = 'TDC_Data_translated_'+str(i)+'.dat'\n",
    "    residual = translate(out_bitstream, 'test3-third', outname, '0x17f0f')"
   ]
  },
  {
   "cell_type": "code",
   "execution_count": null,
   "metadata": {},
   "outputs": [],
   "source": []
  }
 ],
 "metadata": {
  "kernelspec": {
   "display_name": "packages",
   "language": "python",
   "name": "python3"
  },
  "language_info": {
   "codemirror_mode": {
    "name": "ipython",
    "version": 3
   },
   "file_extension": ".py",
   "mimetype": "text/x-python",
   "name": "python",
   "nbconvert_exporter": "python",
   "pygments_lexer": "ipython3",
   "version": "3.10.6"
  },
  "orig_nbformat": 4
 },
 "nbformat": 4,
 "nbformat_minor": 2
}
